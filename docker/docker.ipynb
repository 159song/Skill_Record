{
 "cells": [
  {
   "cell_type": "markdown",
   "metadata": {},
   "source": [
    "# Docker安装"
   ]
  },
  {
   "cell_type": "code",
   "execution_count": null,
   "metadata": {
    "vscode": {
     "languageId": "plaintext"
    }
   },
   "outputs": [],
   "source": [
    "sudo apt-get update\n",
    "sudo apt-get install docker-ce docker-ce-cli containerd.io"
   ]
  },
  {
   "cell_type": "markdown",
   "metadata": {},
   "source": [
    "# 构建 Docker 镜像 在 Dockerfile 所在目录中运行:"
   ]
  },
  {
   "cell_type": "code",
   "execution_count": null,
   "metadata": {
    "vscode": {
     "languageId": "plaintext"
    }
   },
   "outputs": [],
   "source": [
    "docker build -t containers_name ."
   ]
  },
  {
   "cell_type": "markdown",
   "metadata": {},
   "source": [
    "# Dockerfile"
   ]
  },
  {
   "cell_type": "code",
   "execution_count": null,
   "metadata": {
    "vscode": {
     "languageId": "plaintext"
    }
   },
   "outputs": [],
   "source": [
    "Dockerfile\n",
    "# 使用官方 Miniconda 镜像作为基础镜像\n",
    "FROM continuumio/miniconda3\n",
    "\n",
    "# 设置工作目录\n",
    "WORKDIR /app\n",
    "\n",
    "# 复制 requirements.txt 文件到容器中\n",
    "COPY requirements.txt .\n",
    "\n",
    "# 安装 Python 依赖项\n",
    "RUN pip install --no-cache-dir -r requirements.txt\n",
    "\n",
    "# 复制项目文件到容器中\n",
    "COPY . .\n",
    "\n",
    "# 设置环境变量\n",
    "ENV PATH /opt/conda/envs/your_conda_env/bin:$PATH\n",
    "\n",
    "# 运行应用程序\n",
    "CMD [\"python\", \"bot.py\"]"
   ]
  },
  {
   "cell_type": "markdown",
   "metadata": {},
   "source": [
    "# 运行容器"
   ]
  },
  {
   "cell_type": "code",
   "execution_count": null,
   "metadata": {
    "vscode": {
     "languageId": "plaintext"
    }
   },
   "outputs": [],
   "source": [
    "docker run -d -p main_port:docker_port -t docker_name"
   ]
  },
  {
   "cell_type": "markdown",
   "metadata": {},
   "source": [
    "# 将容器转为镜像"
   ]
  },
  {
   "cell_type": "code",
   "execution_count": null,
   "metadata": {
    "vscode": {
     "languageId": "plaintext"
    }
   },
   "outputs": [],
   "source": [
    "docker commit  containers_name image_name"
   ]
  },
  {
   "cell_type": "markdown",
   "metadata": {},
   "source": [
    "# 查看正在运行和停止的容器"
   ]
  },
  {
   "cell_type": "code",
   "execution_count": null,
   "metadata": {
    "vscode": {
     "languageId": "plaintext"
    }
   },
   "outputs": [],
   "source": [
    "docker ps -a"
   ]
  },
  {
   "cell_type": "markdown",
   "metadata": {},
   "source": [
    "# 删除镜像"
   ]
  },
  {
   "cell_type": "code",
   "execution_count": null,
   "metadata": {
    "vscode": {
     "languageId": "plaintext"
    }
   },
   "outputs": [],
   "source": [
    "docker rmi IMAGE_ID_1 IMAGE_ID_2 IMAGE_ID_3"
   ]
  },
  {
   "cell_type": "markdown",
   "metadata": {},
   "source": [
    "# Dockerfike"
   ]
  },
  {
   "cell_type": "code",
   "execution_count": null,
   "metadata": {
    "vscode": {
     "languageId": "plaintext"
    }
   },
   "outputs": [],
   "source": [
    "FROM iamge_name\n",
    "\n",
    "\n",
    "RUN <terminal commands> && \\\n",
    "    <terminal commands> && \\\n",
    "    <terminal commands>\n",
    "\n",
    "# Copy application files\n",
    "COPY src_file dst_floder\n",
    "\n",
    "\n",
    "SHELL [\"conda\", \"run\", \"-n\", \"voice_order\", \"/bin/bash\", \"-c\"]\n",
    "\n",
    "\n",
    "# Ensure the FAST_API_PORT environment variable is available\n",
    "EXPOSE=\n",
    "\n",
    "WORKDIR <working directory>\n",
    "\n",
    "# Start the FastAPI server\n",
    "CMD [\"conda\", \"run\", \"-n\", \"voice_order\", \"python\", \"bot_runner.py\", \"--port\", \"$FAST_API_PORT\"]"
   ]
  },
  {
   "cell_type": "markdown",
   "metadata": {},
   "source": [
    "# mac Docker 启动时 Starting the Docker Engine 一直转圈圈解决办法"
   ]
  },
  {
   "cell_type": "markdown",
   "metadata": {},
   "source": [
    "#配置错误\n",
    "rm -rf ~/.docker"
   ]
  },
  {
   "cell_type": "markdown",
   "metadata": {},
   "source": [
    "# 查看docker状态"
   ]
  },
  {
   "cell_type": "code",
   "execution_count": null,
   "metadata": {
    "vscode": {
     "languageId": "plaintext"
    }
   },
   "outputs": [],
   "source": [
    "docker stats"
   ]
  }
 ],
 "metadata": {
  "language_info": {
   "name": "python"
  }
 },
 "nbformat": 4,
 "nbformat_minor": 2
}
