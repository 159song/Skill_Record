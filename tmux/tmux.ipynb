{
 "cells": [
  {
   "cell_type": "markdown",
   "metadata": {},
   "source": [
    "# 启动会话\n",
    "tmux new -s 会话名\n",
    "# 查看会话列表\n",
    "tmux ls\n",
    "# 恢复会话  \n",
    "tmux attach -t 会话名\n",
    "# 关闭会话\n",
    "tmux kill-session -t 会话名\n",
    "# 关闭窗口\n",
    "tmux kill-window -t 会话名.窗口号\n",
    "# 关闭所有会话\n",
    "tmux kill-server\n",
    "# 切换会话\n",
    "tmux switch -t 会话名\n",
    "# 切换窗口\n",
    "tmux select-window -t 会话名.窗口号\n",
    "# 切换面板\n",
    "tmux select-pane -t 会话名.窗口号.面板号\n",
    "# 分割面板\n",
    "tmux split-window -h/v"
   ]
  },
  {
   "cell_type": "markdown",
   "metadata": {},
   "source": [
    "在 tmux 中查看终端输出的历史内容，你可以使用 copy mode（复制模式）来进行滚动查看。以下是具体步骤：\n",
    "\n",
    "启用复制模式\n",
    "\t1.\t进入复制模式：\n",
    "\t•\t按下 Ctrl + b 后再按 [ 进入复制模式。\n",
    "\t2.\t滚动查看输出：\n",
    "\t•\t使用箭头键（上下左右）或 Page Up、Page Down 来滚动查看终端历史输出。\n",
    "\t•\t你也可以使用 vim 风格的键位进行导航，例如：\n",
    "\t•\tk 向上滚动一行\n",
    "\t•\tj 向下滚动一行\n",
    "\t•\tCtrl + u 向上滚动半页\n",
    "\t•\tCtrl + d 向下滚动半页\n",
    "\t3.\t退出复制模式：\n",
    "\t•\t按下 q 或 Esc 退出复制模式。\n",
    "\n",
    "搜索终端输出\n",
    "\n",
    "在复制模式下，你还可以进行搜索：\n",
    "\t1.\t启动搜索：\n",
    "\t•\t按 / 然后输入你想搜索的文本。\n",
    "\t•\t按 n 跳到下一个匹配项，按 N 跳到上一个匹配项。"
   ]
  }
 ],
 "metadata": {
  "language_info": {
   "name": "python"
  }
 },
 "nbformat": 4,
 "nbformat_minor": 2
}
