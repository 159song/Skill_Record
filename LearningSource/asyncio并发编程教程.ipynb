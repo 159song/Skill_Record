{
 "cells": [
  {
   "cell_type": "markdown",
   "id": "01b9c373",
   "metadata": {},
   "source": [
    "# Asyncio并发编程教程\n",
    "\n",
    "本教程将通过实际可运行的代码示例，系统地介绍Python中的asyncio并发编程。包括基础概念、核心组件、异步操作、高级特性以及最佳实践等内容。"
   ]
  },
  {
   "cell_type": "markdown",
   "id": "453fff40",
   "metadata": {},
   "source": [
    "## 1. 基础概念\n",
    "\n",
    "### 1.1 事件循环(Event Loop)\n",
    "事件循环是asyncio的核心，负责协调和调度所有异步任务。主要组成：\n",
    "- 回调系统\n",
    "- 驱动生成器\n",
    "- IO多路复用(epoll)\n",
    "\n",
    "让我们通过一个简单的例子来了解事件循环的基本使用："
   ]
  },
  {
   "cell_type": "code",
   "execution_count": null,
   "id": "b059a933",
   "metadata": {},
   "outputs": [],
   "source": [
    "import asyncio\n",
    "import time\n",
    "\n",
    "async def hello(name):\n",
    "    print(f'{name}: 开始')\n",
    "    await asyncio.sleep(1)  # 模拟IO操作\n",
    "    print(f'{name}: 结束')\n",
    "\n",
    "async def main():\n",
    "    # 创建多个协程任务\n",
    "    await asyncio.gather(\n",
    "        hello('任务1'),\n",
    "        hello('任务2'),\n",
    "        hello('任务3')\n",
    "    )\n",
    "\n",
    "# 运行事件循环\n",
    "if __name__ == '__main__':\n",
    "    start = time.time()\n",
    "    asyncio.run(main())\n",
    "    print(f'总用时: {time.time() - start:.2f}秒')"
   ]
  },
  {
   "cell_type": "markdown",
   "id": "b69f943f",
   "metadata": {},
   "source": [
    "### 1.2 协程(Coroutine)\n",
    "协程是可以暂停和恢复执行的函数，使用async/await语法定义。主要特点：\n",
    "- 单线程内实现并发\n",
    "- 显式切换点\n",
    "- 避免回调地狱\n",
    "\n",
    "下面是一个展示协程基本用法的例子："
   ]
  },
  {
   "cell_type": "code",
   "execution_count": null,
   "id": "73c8f5df",
   "metadata": {},
   "outputs": [],
   "source": [
    "async def fetch_data():\n",
    "    print('开始获取数据...')\n",
    "    await asyncio.sleep(2)  # 模拟IO操作\n",
    "    return {'data': 'some data'}\n",
    "\n",
    "async def process_data():\n",
    "    print('等待数据...')\n",
    "    data = await fetch_data()  # 等待数据获取完成\n",
    "    print('数据处理完成:', data)\n",
    "\n",
    "# 运行示例\n",
    "if __name__ == '__main__':\n",
    "    asyncio.run(process_data())"
   ]
  },
  {
   "cell_type": "markdown",
   "id": "dbab7363",
   "metadata": {},
   "source": [
    "## 2. 核心组件\n",
    "\n",
    "### 2.1 Future对象\n",
    "Future对象表示一个异步操作的最终结果。它提供了一种方式来查看操作是否完成、获取结果或异常等。"
   ]
  },
  {
   "cell_type": "code",
   "execution_count": null,
   "id": "a24cfc1a",
   "metadata": {},
   "outputs": [],
   "source": [
    "async def set_future_result(future):\n",
    "    await asyncio.sleep(1)\n",
    "    future.set_result('Future的结果')\n",
    "\n",
    "async def main():\n",
    "    # 创建Future对象\n",
    "    future = asyncio.Future()\n",
    "    \n",
    "    # 创建一个任务来设置future的结果\n",
    "    asyncio.create_task(set_future_result(future))\n",
    "    \n",
    "    # 等待future完成\n",
    "    result = await future\n",
    "    print('获取到结果:', result)\n",
    "\n",
    "if __name__ == '__main__':\n",
    "    asyncio.run(main())"
   ]
  },
  {
   "cell_type": "markdown",
   "id": "01eb59e9",
   "metadata": {},
   "source": [
    "### 2.2 Task对象\n",
    "Task是Future的子类，用于包装和管理协程。当一个协程被包装成Task后，它会被自动调度执行。"
   ]
  },
  {
   "cell_type": "code",
   "execution_count": null,
   "id": "53629c2a",
   "metadata": {},
   "outputs": [],
   "source": [
    "async def long_operation():\n",
    "    print('开始长时间操作')\n",
    "    await asyncio.sleep(2)\n",
    "    print('长时间操作完成')\n",
    "    return '操作结果'\n",
    "\n",
    "async def main():\n",
    "    # 创建task\n",
    "    task = asyncio.create_task(long_operation())\n",
    "    \n",
    "    # 等待task完成\n",
    "    print('等待任务完成...')\n",
    "    result = await task\n",
    "    print('获取到任务结果:', result)\n",
    "\n",
    "if __name__ == '__main__':\n",
    "    asyncio.run(main())"
   ]
  },
  {
   "cell_type": "markdown",
   "id": "2b092680",
   "metadata": {},
   "source": [
    "## 3. 异步操作\n",
    "\n",
    "### 3.1 异步IO操作\n",
    "以下是一个使用asyncio实现的异步文件读写示例："
   ]
  },
  {
   "cell_type": "code",
   "execution_count": null,
   "id": "4af55519",
   "metadata": {},
   "outputs": [],
   "source": [
    "import aiofiles\n",
    "\n",
    "async def async_file_io():\n",
    "    try:\n",
    "        # 异步写文件\n",
    "        async with aiofiles.open('test.txt', 'w') as f:\n",
    "            await f.write('Hello, Async IO!')\n",
    "        \n",
    "        # 异步读文件\n",
    "        async with aiofiles.open('test.txt', 'r') as f:\n",
    "            content = await f.read()\n",
    "            print('读取到的内容:', content)\n",
    "    except ImportError:\n",
    "        print('请先安装aiofiles: pip install aiofiles')\n",
    "\n",
    "if __name__ == '__main__':\n",
    "    asyncio.run(async_file_io())"
   ]
  },
  {
   "cell_type": "markdown",
   "id": "e5963962",
   "metadata": {},
   "source": [
    "### 3.2 并发控制\n",
    "使用Semaphore来控制并发量，避免同时运行太多协程："
   ]
  },
  {
   "cell_type": "code",
   "execution_count": null,
   "id": "2d3b9f31",
   "metadata": {},
   "outputs": [],
   "source": [
    "async def worker(name, sem):\n",
    "    async with sem:\n",
    "        print(f'{name} 开始工作')\n",
    "        await asyncio.sleep(1)\n",
    "        print(f'{name} 完成工作')\n",
    "\n",
    "async def main():\n",
    "    # 限制最大并发数为3\n",
    "    sem = asyncio.Semaphore(3)\n",
    "    \n",
    "    # 创建10个任务\n",
    "    tasks = [worker(f'worker_{i}', sem) for i in range(10)]\n",
    "    await asyncio.gather(*tasks)\n",
    "\n",
    "if __name__ == '__main__':\n",
    "    asyncio.run(main())"
   ]
  },
  {
   "cell_type": "markdown",
   "id": "5529ce23",
   "metadata": {},
   "source": [
    "## 4. 高级特性\n",
    "\n",
    "### 4.1 异步上下文管理器\n",
    "创建支持异步上下文管理的类："
   ]
  },
  {
   "cell_type": "code",
   "execution_count": null,
   "id": "5c90ad49",
   "metadata": {},
   "outputs": [],
   "source": [
    "class AsyncResource:\n",
    "    async def __aenter__(self):\n",
    "        print('获取资源')\n",
    "        await asyncio.sleep(1)  # 模拟资源获取\n",
    "        return self\n",
    "    \n",
    "    async def __aexit__(self, exc_type, exc_val, exc_tb):\n",
    "        print('释放资源')\n",
    "        await asyncio.sleep(0.5)  # 模拟资源释放\n",
    "\n",
    "async def main():\n",
    "    async with AsyncResource() as resource:\n",
    "        print('使用资源中...')\n",
    "        await asyncio.sleep(1)\n",
    "\n",
    "if __name__ == '__main__':\n",
    "    asyncio.run(main())"
   ]
  },
  {
   "cell_type": "markdown",
   "id": "5e483166",
   "metadata": {},
   "source": [
    "## 5. 实践应用\n",
    "\n",
    "### 5.1 高并发网络爬虫\n",
    "使用aiohttp实现的异步网络请求示例："
   ]
  },
  {
   "cell_type": "code",
   "execution_count": null,
   "id": "14ddfd1c",
   "metadata": {},
   "outputs": [],
   "source": [
    "import aiohttp\n",
    "\n",
    "async def fetch_url(session, url):\n",
    "    try:\n",
    "        async with session.get(url) as response:\n",
    "            return await response.text()\n",
    "    except Exception as e:\n",
    "        print(f'获取 {url} 失败: {e}')\n",
    "        return None\n",
    "\n",
    "async def main():\n",
    "    urls = [\n",
    "        'http://example.com',\n",
    "        'http://example.org',\n",
    "        'http://example.net'\n",
    "    ]\n",
    "    \n",
    "    try:\n",
    "        async with aiohttp.ClientSession() as session:\n",
    "            tasks = [fetch_url(session, url) for url in urls]\n",
    "            results = await asyncio.gather(*tasks)\n",
    "            for url, html in zip(urls, results):\n",
    "                if html:\n",
    "                    print(f'{url}: 获取成功，长度 {len(html)}')\n",
    "    except ImportError:\n",
    "        print('请先安装aiohttp: pip install aiohttp')\n",
    "\n",
    "if __name__ == '__main__':\n",
    "    asyncio.run(main())"
   ]
  },
  {
   "cell_type": "markdown",
   "id": "3f880a86",
   "metadata": {},
   "source": [
    "## 6. 最佳实践\n",
    "\n",
    "### 6.1 异常处理\n",
    "在异步编程中正确处理异常的示例："
   ]
  },
  {
   "cell_type": "code",
   "execution_count": null,
   "id": "b538a5c7",
   "metadata": {},
   "outputs": [],
   "source": [
    "async def might_fail():\n",
    "    await asyncio.sleep(1)\n",
    "    raise ValueError('操作失败')\n",
    "\n",
    "async def handle_error():\n",
    "    try:\n",
    "        await might_fail()\n",
    "    except ValueError as e:\n",
    "        print(f'捕获到异常: {e}')\n",
    "    finally:\n",
    "        print('清理资源...')\n",
    "\n",
    "if __name__ == '__main__':\n",
    "    asyncio.run(handle_error())"
   ]
  },
  {
   "cell_type": "markdown",
   "id": "ac89d298",
   "metadata": {},
   "source": [
    "## 7. 注意事项\n",
    "\n",
    "1. **避免同步阻塞**\n",
    "   - 使用异步库替代同步库\n",
    "   - CPU密集型任务使用线程池\n",
    "\n",
    "2. **资源管理**\n",
    "   - 正确关闭连接和会话\n",
    "   - 使用异步上下文管理器\n",
    "\n",
    "3. **性能考虑**\n",
    "   - 合理控制并发量\n",
    "   - 适当使用缓存\n",
    "   - 注意内存管理\n",
    "\n",
    "以下是一个结合这些注意事项的示例："
   ]
  },
  {
   "cell_type": "code",
   "execution_count": null,
   "id": "31a00527",
   "metadata": {},
   "outputs": [],
   "source": [
    "from concurrent.futures import ThreadPoolExecutor\n",
    "import functools\n",
    "\n",
    "# CPU密集型任务\n",
    "def cpu_bound_task(x):\n",
    "    return sum(i * i for i in range(x))\n",
    "\n",
    "async def main():\n",
    "    print('演示如何处理CPU密集型任务...')\n",
    "    \n",
    "    # 创建线程池\n",
    "    loop = asyncio.get_event_loop()\n",
    "    with ThreadPoolExecutor() as pool:\n",
    "        # 在线程池中运行CPU密集型任务\n",
    "        nums = [5000000, 4000000, 3000000]\n",
    "        tasks = []\n",
    "        for n in nums:\n",
    "            # 将同步函数包装成异步任务\n",
    "            task = loop.run_in_executor(pool, cpu_bound_task, n)\n",
    "            tasks.append(task)\n",
    "        \n",
    "        # 并发执行所有任务\n",
    "        results = await asyncio.gather(*tasks)\n",
    "        print('计算结果:', results)\n",
    "\n",
    "if __name__ == '__main__':\n",
    "    asyncio.run(main())"
   ]
  }
 ],
 "metadata": {
  "language_info": {
   "name": "python"
  }
 },
 "nbformat": 4,
 "nbformat_minor": 5
}
