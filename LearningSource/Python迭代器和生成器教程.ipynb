{
 "cells": [
  {
   "cell_type": "markdown",
   "id": "f67cdb41",
   "metadata": {},
   "source": [
    "# Python迭代器和生成器教程\n",
    "\n",
    "本教程将深入介绍Python中的迭代器（Iterator）和生成器（Generator）概念，包括它们的实现原理、使用场景和最佳实践。通过实践示例，你将掌握如何创建和使用这些强大的Python特性。"
   ]
  },
  {
   "cell_type": "markdown",
   "id": "bedce957",
   "metadata": {},
   "source": [
    "## 1. 迭代器基础\n",
    "\n",
    "在Python中，迭代器是一个实现了迭代器协议的对象。迭代器协议包含两个方法：\n",
    "- `__iter__()`: 返回迭代器对象自身\n",
    "- `__next__()`: 返回下一个值，如果没有更多值可返回，则抛出StopIteration异常\n",
    "\n",
    "让我们通过示例来理解迭代器的工作原理。"
   ]
  },
  {
   "cell_type": "code",
   "execution_count": null,
   "id": "e55a587f",
   "metadata": {},
   "outputs": [],
   "source": [
    "class CountDown:\n",
    "    \"\"\"一个简单的倒计时迭代器\"\"\"\n",
    "    def __init__(self, start):\n",
    "        self.start = start\n",
    "    \n",
    "    def __iter__(self):\n",
    "        return self\n",
    "    \n",
    "    def __next__(self):\n",
    "        if self.start <= 0:\n",
    "            raise StopIteration\n",
    "        self.start -= 1\n",
    "        return self.start + 1\n",
    "\n",
    "# 使用示例\n",
    "count = CountDown(5)\n",
    "for num in count:\n",
    "    print(num)"
   ]
  },
  {
   "cell_type": "markdown",
   "id": "a80be0ba",
   "metadata": {},
   "source": [
    "## 2. 迭代器进阶\n",
    "\n",
    "### 2.1 可迭代对象（Iterable）\n",
    "可迭代对象是实现了`__iter__`方法的对象，该方法返回一个迭代器。常见的可迭代对象包括列表、元组、字典等。\n",
    "\n",
    "### 2.2 iter()和next()函数\n",
    "Python提供了内置函数`iter()`和`next()`来操作迭代器：\n",
    "- `iter(obj)`: 获取可迭代对象的迭代器\n",
    "- `next(iterator)`: 获取迭代器的下一个值"
   ]
  },
  {
   "cell_type": "code",
   "execution_count": null,
   "id": "768d8ac4",
   "metadata": {},
   "outputs": [],
   "source": [
    "# 使用iter()和next()函数\n",
    "my_list = [1, 2, 3, 4, 5]\n",
    "iterator = iter(my_list)\n",
    "\n",
    "try:\n",
    "    while True:\n",
    "        item = next(iterator)\n",
    "        print(item)\n",
    "except StopIteration:\n",
    "    print('迭代完成')"
   ]
  },
  {
   "cell_type": "markdown",
   "id": "03533829",
   "metadata": {},
   "source": [
    "## 3. 生成器基础\n",
    "\n",
    "生成器是一种特殊的迭代器，使用yield语句来生成值。生成器函数在调用时会返回一个生成器对象。\n",
    "\n",
    "生成器的优点：\n",
    "1. 内存效率高：值是按需生成的，不需要一次性加载所有数据到内存\n",
    "2. 代码简洁：不需要实现`__iter__`和`__next__`方法\n",
    "3. 维护状态：函数会在yield处暂停，保持局部变量的状态"
   ]
  },
  {
   "cell_type": "code",
   "execution_count": null,
   "id": "035fd0e1",
   "metadata": {},
   "outputs": [],
   "source": [
    "def fibonacci(n):\n",
    "    \"\"\"生成斐波那契数列的生成器函数\"\"\"\n",
    "    a, b = 0, 1\n",
    "    for _ in range(n):\n",
    "        yield a\n",
    "        a, b = b, a + b\n",
    "\n",
    "# 使用生成器\n",
    "for num in fibonacci(10):\n",
    "    print(num)"
   ]
  },
  {
   "cell_type": "markdown",
   "id": "95e966c7",
   "metadata": {},
   "source": [
    "## 4. 生成器表达式\n",
    "\n",
    "生成器表达式是创建生成器的简洁方式，类似于列表推导式，但使用圆括号而不是方括号。生成器表达式更节省内存，因为它不会一次性生成所有值。"
   ]
  },
  {
   "cell_type": "code",
   "execution_count": null,
   "id": "15a8cdde",
   "metadata": {},
   "outputs": [],
   "source": [
    "# 列表推导式 vs 生成器表达式\n",
    "list_comp = [x * x for x in range(1000000)]  # 立即生成所有值\n",
    "gen_exp = (x * x for x in range(1000000))   # 按需生成值\n",
    "\n",
    "# 验证内存使用差异\n",
    "print(f'列表推导式占用内存：{sys.getsizeof(list_comp)} bytes')\n",
    "print(f'生成器表达式占用内存：{sys.getsizeof(gen_exp)} bytes')\n",
    "\n",
    "# 使用生成器表达式\n",
    "for i in (x * x for x in range(5)):\n",
    "    print(i)"
   ]
  },
  {
   "cell_type": "markdown",
   "id": "523a85eb",
   "metadata": {},
   "source": [
    "## 5. 生成器的高级特性\n",
    "\n",
    "生成器除了`__next__`方法外，还有其他重要的方法：\n",
    "- `send()`: 向生成器发送值\n",
    "- `throw()`: 向生成器抛出异常\n",
    "- `close()`: 关闭生成器\n",
    "\n",
    "这些方法使生成器成为协程的基础。"
   ]
  },
  {
   "cell_type": "code",
   "execution_count": null,
   "id": "6915b276",
   "metadata": {},
   "outputs": [],
   "source": [
    "def counter():\n",
    "    i = 0\n",
    "    while True:\n",
    "        val = yield i\n",
    "        if val is not None:\n",
    "            i = val\n",
    "        else:\n",
    "            i += 1\n",
    "\n",
    "# 使用send方法\n",
    "c = counter()\n",
    "print(next(c))       # 初始化生成器\n",
    "print(c.send(10))    # 发送值10\n",
    "print(next(c))       # 继续生成下一个值\n",
    "print(next(c))"
   ]
  },
  {
   "cell_type": "markdown",
   "id": "ef608a71",
   "metadata": {},
   "source": [
    "## 6. yield from\n",
    "\n",
    "`yield from`是Python 3.3引入的语法，用于重构生成器。它可以：\n",
    "1. 从其他生成器中yield值\n",
    "2. 简化生成器嵌套\n",
    "3. 支持子生成器的委托"
   ]
  },
  {
   "cell_type": "code",
   "execution_count": null,
   "id": "32bbf264",
   "metadata": {},
   "outputs": [],
   "source": [
    "def sub_gen(n):\n",
    "    for i in range(n):\n",
    "        yield i\n",
    "\n",
    "def main_gen(n):\n",
    "    # 使用yield from委托给子生成器\n",
    "    yield from sub_gen(n)\n",
    "    yield from 'ABC'  # 字符串也是可迭代对象\n",
    "\n",
    "# 使用yield from\n",
    "for item in main_gen(3):\n",
    "    print(item)"
   ]
  },
  {
   "cell_type": "markdown",
   "id": "29c9cde5",
   "metadata": {},
   "source": [
    "## 7. 最佳实践总结\n",
    "\n",
    "在使用迭代器和生成器时，请记住以下几点：\n",
    "\n",
    "1. **选择合适的工具**\n",
    "   - 需要遍历大量数据时，使用生成器可以节省内存\n",
    "   - 需要多次遍历同一个序列时，使用列表可能更合适\n",
    "\n",
    "2. **性能考虑**\n",
    "   - 生成器表达式比列表推导式更节省内存\n",
    "   - 生成器一旦遍历完就不能重新开始，需要重新创建\n",
    "\n",
    "3. **代码可读性**\n",
    "   - 使用生成器函数来处理复杂的迭代逻辑\n",
    "   - 使用生成器表达式处理简单的映射和过滤\n",
    "\n",
    "4. **异常处理**\n",
    "   - 记得处理StopIteration异常\n",
    "   - 在生成器中使用try/finally确保资源正确释放\n",
    "\n",
    "5. **调试技巧**\n",
    "   - 使用print语句或日志来追踪生成器的执行流程\n",
    "   - 考虑将生成器转换为列表来查看所有值"
   ]
  }
 ],
 "metadata": {
  "language_info": {
   "name": "python"
  }
 },
 "nbformat": 4,
 "nbformat_minor": 5
}
