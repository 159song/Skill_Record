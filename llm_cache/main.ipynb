{
 "cells": [
  {
   "cell_type": "code",
   "execution_count": 1,
   "metadata": {},
   "outputs": [
    {
     "name": "stderr",
     "output_type": "stream",
     "text": [
      "/Users/zxs/miniconda3/envs/llm_cache/lib/python3.12/site-packages/tqdm/auto.py:21: TqdmWarning: IProgress not found. Please update jupyter and ipywidgets. See https://ipywidgets.readthedocs.io/en/stable/user_install.html\n",
      "  from .autonotebook import tqdm as notebook_tqdm\n",
      "None of PyTorch, TensorFlow >= 2.0, or Flax have been found. Models won't be available and only tokenizers, configuration and file/data utilities can be used.\n"
     ]
    },
    {
     "name": "stdout",
     "output_type": "stream",
     "text": [
      "Cache loading.....\n",
      "Question: hello\n",
      "Cache not hit Time consuming: 4.02s\n",
      "Answer: hi there! how can i assist you with your order today at happy grill?\\n\n",
      "Question: hello\n",
      "Cache hit Time consuming: 0.27s\n",
      "Answer: hi there! how can i assist you with your order today at happy grill?\\n\n"
     ]
    }
   ],
   "source": [
    "import time\n",
    "import os \n",
    "from dotenv import load_dotenv\n",
    "from get_history import history\n",
    "load_dotenv()\n",
    "\n",
    "def response_text(openai_resp):\n",
    "    return openai_resp['choices'][0]['message']['content']\n",
    "\n",
    "from gptcache import cache\n",
    "from gptcache.adapter import openai\n",
    "from gptcache.embedding import Onnx\n",
    "from gptcache.manager import CacheBase, VectorBase, get_data_manager\n",
    "from gptcache.similarity_evaluation.distance import SearchDistanceEvaluation\n",
    "\n",
    "print(\"Cache loading.....\")\n",
    "\n",
    "onnx = Onnx()\n",
    "data_manager = get_data_manager(CacheBase(\"sqlite\"), VectorBase(\"faiss\", dimension=onnx.dimension),data_path=\"./sqlite.db\")\n",
    "cache.init(\n",
    "    embedding_func=onnx.to_embeddings,\n",
    "    data_manager=data_manager,\n",
    "    similarity_evaluation=SearchDistanceEvaluation(),\n",
    "    )\n",
    "# cache.import_data(questions=[\"my phone number is 4158887963.\"],answers=[\"you phone number is 4158887963,correct?\"])\n",
    "cache.set_openai_key()\n",
    "\n",
    "conversation_history = history\n",
    "\n",
    "while True:\n",
    "    # Get user input from the keyboard\n",
    "    question = input(\"Enter your question (or type 'q' to quit): \")\n",
    "    \n",
    "    # Exit the loop if the user types 'exit'\n",
    "    if question.lower() == 'q':\n",
    "        break\n",
    "    \n",
    "    start_time = time.time()\n",
    "    \n",
    "    # Append the new question to the conversation history\n",
    "    conversation_history.append({\"role\": \"user\", \"content\": question})\n",
    "    \n",
    "    response = openai.ChatCompletion.create(\n",
    "        model='gpt-4o',\n",
    "        messages=conversation_history  # Use the accumulated conversation history\n",
    "    )\n",
    "    # Append the response to the conversation history\n",
    "    conversation_history.append({\"role\": \"assistant\", \"content\": response_text(response)})\n",
    "    \n",
    "    print(f'Question: {question}')\n",
    "    if \"gptcache\" in response.keys():\n",
    "        print(\"Cache hit Time consuming: {:.2f}s\".format(time.time() - start_time))\n",
    "    else:\n",
    "        print(\"Cache not hit Time consuming: {:.2f}s\".format(time.time() - start_time))\n",
    "    print(f'Answer: {response_text(response)}\\\\n')"
   ]
  }
 ],
 "metadata": {
  "kernelspec": {
   "display_name": "llm_cache",
   "language": "python",
   "name": "python3"
  },
  "language_info": {
   "codemirror_mode": {
    "name": "ipython",
    "version": 3
   },
   "file_extension": ".py",
   "mimetype": "text/x-python",
   "name": "python",
   "nbconvert_exporter": "python",
   "pygments_lexer": "ipython3",
   "version": "3.12.0"
  }
 },
 "nbformat": 4,
 "nbformat_minor": 2
}
